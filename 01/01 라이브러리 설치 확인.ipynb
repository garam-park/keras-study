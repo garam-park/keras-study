{
 "cells": [
  {
   "cell_type": "markdown",
   "metadata": {},
   "source": [
    "# 라이브러리 설치 \n",
    "\n",
    "필요한 라이브러리를 설치합니다.\n",
    "\n",
    "``` sh\n",
    "pip install -r requirements.txt\n",
    "```\n",
    "\n",
    "혹은 매뉴얼리 설치합니다.\n",
    "\n",
    "``` sh\n",
    "pip install numpy scipy scikit-learn matplotlib pandas pydot h5py tensorflow keras\n",
    "```"
   ]
  },
  {
   "cell_type": "code",
   "execution_count": 2,
   "metadata": {},
   "outputs": [
    {
     "name": "stdout",
     "output_type": "stream",
     "text": [
      "scipy : 1.3.1\n",
      "numpy : 1.17.2\n",
      "matplotlib : 3.1.1\n",
      "sklearn : 0.21.3\n",
      "pydot : 1.4.1\n",
      "h5py : 2.10.0\n",
      "pandas : 0.25.1\n",
      "tensorflow : 1.14.0\n",
      "keras : 2.2.5\n"
     ]
    }
   ],
   "source": [
    "import scipy\n",
    "import numpy\n",
    "import matplotlib\n",
    "import sklearn\n",
    "import pydot\n",
    "import h5py\n",
    "import pandas\n",
    "\n",
    "import tensorflow\n",
    "import keras\n",
    "\n",
    "print(\"scipy : \"+scipy.__version__)\n",
    "print(\"numpy : \"+numpy.__version__)\n",
    "print(\"matplotlib : \"+matplotlib.__version__)\n",
    "print(\"sklearn : \"+sklearn.__version__)\n",
    "print(\"pydot : \"+pydot.__version__)\n",
    "print(\"h5py : \"+h5py.__version__)\n",
    "print(\"pandas : \"+pandas.__version__)\n",
    "\n",
    "print(\"tensorflow : \"+tensorflow.__version__)\n",
    "print(\"keras : \"+keras.__version__)\n"
   ]
  },
  {
   "cell_type": "code",
   "execution_count": null,
   "metadata": {},
   "outputs": [],
   "source": []
  }
 ],
 "metadata": {
  "kernelspec": {
   "display_name": "Python 3",
   "language": "python",
   "name": "python3"
  },
  "language_info": {
   "codemirror_mode": {
    "name": "ipython",
    "version": 3
   },
   "file_extension": ".py",
   "mimetype": "text/x-python",
   "name": "python",
   "nbconvert_exporter": "python",
   "pygments_lexer": "ipython3",
   "version": "3.7.4"
  }
 },
 "nbformat": 4,
 "nbformat_minor": 2
}
